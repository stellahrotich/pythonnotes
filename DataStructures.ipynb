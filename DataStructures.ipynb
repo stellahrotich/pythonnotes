{
  "nbformat": 4,
  "nbformat_minor": 0,
  "metadata": {
    "colab": {
      "name": "DataStructures.ipynb",
      "provenance": [],
      "collapsed_sections": [],
      "toc_visible": true,
      "authorship_tag": "ABX9TyPCQA61pdB+qbZjW77Gs0Bw",
      "include_colab_link": true
    },
    "kernelspec": {
      "name": "python3",
      "display_name": "Python 3"
    }
  },
  "cells": [
    {
      "cell_type": "markdown",
      "metadata": {
        "id": "view-in-github",
        "colab_type": "text"
      },
      "source": [
        "<a href=\"https://colab.research.google.com/github/stellahrotich/pythonnotes/blob/master/DataStructures.ipynb\" target=\"_parent\"><img src=\"https://colab.research.google.com/assets/colab-badge.svg\" alt=\"Open In Colab\"/></a>"
      ]
    },
    {
      "cell_type": "markdown",
      "metadata": {
        "id": "u4ToNuZpPHb-"
      },
      "source": [
        "## **GRAPHS**"
      ]
    },
    {
      "cell_type": "markdown",
      "metadata": {
        "id": "I4VzwMKGPW9l"
      },
      "source": [
        "### **Create Graphs**"
      ]
    },
    {
      "cell_type": "code",
      "metadata": {
        "colab": {
          "base_uri": "https://localhost:8080/"
        },
        "id": "Mu44BH-rPWDe",
        "outputId": "7ad3f232-dcda-41d4-ffe0-f791cfa8c89c"
      },
      "source": [
        "class graph:\r\n",
        "    def __init__(self,gdict=None):\r\n",
        "        if gdict is None:\r\n",
        "            gdict = []\r\n",
        "        self.gdict = gdict\r\n",
        "\r\n",
        "# Get the keys of the dictionary\r\n",
        "    def getVertices(self):\r\n",
        "        return list(self.gdict.keys())\r\n",
        "        \r\n",
        "# Create the dictionary with graph elements\r\n",
        "graph_elements = { \"a\" : [\"b\",\"c\"],\r\n",
        "                \"b\" : [\"a\", \"d\"],\r\n",
        "                \"c\" : [\"a\", \"d\"],\r\n",
        "                \"d\" : [\"e\"],\r\n",
        "                \"e\" : [\"d\"]\r\n",
        "                }\r\n",
        "g = graph(graph_elements)\r\n",
        "print(g.getVertices())"
      ],
      "execution_count": 63,
      "outputs": [
        {
          "output_type": "stream",
          "text": [
            "['a', 'b', 'c', 'd', 'e']\n"
          ],
          "name": "stdout"
        }
      ]
    },
    {
      "cell_type": "markdown",
      "metadata": {
        "id": "8qAYyPVaQIyC"
      },
      "source": [
        "### **Add Vertex**"
      ]
    },
    {
      "cell_type": "code",
      "metadata": {
        "id": "OZlqlhIXQHw8"
      },
      "source": [
        "class graph:\r\n",
        "\r\n",
        "    def __init__(self,gdict=None):\r\n",
        "        if gdict is None:\r\n",
        "            gdict = {}\r\n",
        "        self.gdict = gdict\r\n",
        "\r\n",
        "    def edges(self):\r\n",
        "        return self.findedges()\r\n",
        "# Find the distinct list of edges\r\n",
        "\r\n",
        "    def findedges(self):\r\n",
        "        edgename = []\r\n",
        "        for vrtx in self.gdict:\r\n",
        "            for nxtvrtx in self.gdict[vrtx]:\r\n",
        "                if {nxtvrtx, vrtx} not in edgename:\r\n",
        "                    edgename.append({vrtx, nxtvrtx})\r\n",
        "        return edgename\r\n",
        "\r\n",
        "# Create the dictionary with graph elements\r\n",
        "graph_elements = { \"a\" : [\"b\",\"c\"],\r\n",
        "                \"b\" : [\"a\", \"d\"],\r\n",
        "                \"c\" : [\"a\", \"d\"],\r\n",
        "                \"d\" : [\"e\"],\r\n",
        "                \"e\" : [\"d\"]\r\n",
        "                }\r\n",
        "\r\n",
        "g = graph(graph_elements)\r\n",
        "\r\n",
        "print(g.edges())"
      ],
      "execution_count": null,
      "outputs": []
    },
    {
      "cell_type": "markdown",
      "metadata": {
        "id": "1azDFhXeQV6r"
      },
      "source": [
        "### **Add Edge**"
      ]
    },
    {
      "cell_type": "code",
      "metadata": {
        "id": "e7EyZi94QU5G"
      },
      "source": [
        "class graph:\r\n",
        "\r\n",
        "    def __init__(self,gdict=None):\r\n",
        "        if gdict is None:\r\n",
        "            gdict = {}\r\n",
        "        self.gdict = gdict\r\n",
        "\r\n",
        "    def edges(self):\r\n",
        "        return self.findedges()\r\n",
        "# Add the new edge\r\n",
        "\r\n",
        "    def AddEdge(self, edge):\r\n",
        "        edge = set(edge)\r\n",
        "        (vrtx1, vrtx2) = tuple(edge)\r\n",
        "        if vrtx1 in self.gdict:\r\n",
        "            self.gdict[vrtx1].append(vrtx2)\r\n",
        "        else:\r\n",
        "            self.gdict[vrtx1] = [vrtx2]\r\n",
        "\r\n",
        "# List the edge names\r\n",
        "    def findedges(self):\r\n",
        "        edgename = []\r\n",
        "        for vrtx in self.gdict:\r\n",
        "            for nxtvrtx in self.gdict[vrtx]:\r\n",
        "                if {nxtvrtx, vrtx} not in edgename:\r\n",
        "                    edgename.append({vrtx, nxtvrtx})\r\n",
        "        return edgename\r\n",
        "\r\n",
        "# Create the dictionary with graph elements\r\n",
        "graph_elements = { \"a\" : [\"b\",\"c\"],\r\n",
        "                \"b\" : [\"a\", \"d\"],\r\n",
        "                \"c\" : [\"a\", \"d\"],\r\n",
        "                \"d\" : [\"e\"],\r\n",
        "                \"e\" : [\"d\"]\r\n",
        "                }\r\n",
        "\r\n",
        "g = graph(graph_elements)\r\n",
        "g.AddEdge({'a','e'})\r\n",
        "g.AddEdge({'a','c'})\r\n",
        "print(g.edges())"
      ],
      "execution_count": null,
      "outputs": []
    },
    {
      "cell_type": "markdown",
      "metadata": {
        "id": "lZ-v8Xhqd0mg"
      },
      "source": [
        "# **BINARY TREES**"
      ]
    },
    {
      "cell_type": "markdown",
      "metadata": {
        "id": "bXmUnAIDwWFn"
      },
      "source": [
        "## **Tree Traversals** \r\n",
        "**Inorder, Preoder and Postorder**"
      ]
    },
    {
      "cell_type": "code",
      "metadata": {
        "id": "5dmbudZ43K7D"
      },
      "source": [
        "class Node: \r\n",
        "    def __init__(self, data): \r\n",
        "      self.left = None\r\n",
        "      self.right = None\r\n",
        "      self.data = data \r\n",
        "    def inorderTraversal(self, root):\r\n",
        "        res= []\r\n",
        "        if root:\r\n",
        "            res = self.inorderTraversal(root.left)\r\n",
        "            res.append(root.data)\r\n",
        "            res =  + self.inorderTraversal(root.right)\r\n",
        "        return resres"
      ],
      "execution_count": 51,
      "outputs": []
    },
    {
      "cell_type": "code",
      "metadata": {
        "id": "Vy7kKXnA5nFP"
      },
      "source": [
        "def postorderTraversal(self, root):\r\n",
        "    res = []\r\n",
        "    if root:\r\n",
        "      res = self.postorderTraversal(root.left)\r\n",
        "      res = res + self.postorderTraversal(root.right)\r\n",
        "      res.append(root.data)\r\n",
        "    return res"
      ],
      "execution_count": 52,
      "outputs": []
    },
    {
      "cell_type": "code",
      "metadata": {
        "id": "c7vUmTGj6XU9"
      },
      "source": [
        "def preorderTraversal(self, root):\r\n",
        "    res = []\r\n",
        "    if root:\r\n",
        "      res.append(root.data)\r\n",
        "      res = self.postorderTraversal(root.left)\r\n",
        "      res = res + self.postorderTraversal(root.right)\r\n",
        "    return res"
      ],
      "execution_count": 53,
      "outputs": []
    },
    {
      "cell_type": "code",
      "metadata": {
        "colab": {
          "base_uri": "https://localhost:8080/"
        },
        "id": "OatFlTs_xW4m",
        "outputId": "858979e9-a019-44fb-d4f9-295fd077adf3"
      },
      "source": [
        "class Node: \r\n",
        "\tdef __init__(self,key): \r\n",
        "\t\tself.left = None\r\n",
        "\t\tself.right = None\r\n",
        "\t\tself.val = key \r\n",
        "\r\n",
        "# A function to do inorder tree traversal \r\n",
        "def printInorder(root): \r\n",
        "\tif root: \t\t\r\n",
        "\t\tprintInorder(root.left) \r\n",
        "\t\tprint(root.val), \r\n",
        "\t\tprintInorder(root.right) \r\n",
        "  \r\n",
        "# A function to do postorder tree traversal \r\n",
        "def printPostorder(root): \r\n",
        "\tif root: \r\n",
        "\t\tprintPostorder(root.left) \r\n",
        "\t\tprintPostorder(root.right) \r\n",
        "\t\tprint(root.val), \r\n",
        "\r\n",
        "# A function to do preorder tree traversal \r\n",
        "def printPreorder(root): \r\n",
        "\tif root: \r\n",
        "\t\tprint(root.val), \r\n",
        "\t\tprintPreorder(root.left) \r\n",
        "\t\tprintPreorder(root.right)\r\n",
        "   \r\n",
        "# Driver code \r\n",
        "root = Node(1) \r\n",
        "root.left\t = Node(2) \r\n",
        "root.right\t = Node(3) \r\n",
        "root.left.left = Node(4) \r\n",
        "root.left.right = Node(5) \r\n",
        "print (\"\\nPreorder traversal of binary tree is\")\r\n",
        "printPreorder(root) \r\n",
        "print (\"\\nInorder traversal of binary tree is\")\r\n",
        "printInorder(root) \r\n",
        "print (\"\\nPostorder traversal of binary tree is\")\r\n",
        "printPostorder(root) \r\n"
      ],
      "execution_count": 54,
      "outputs": [
        {
          "output_type": "stream",
          "text": [
            "\n",
            "Preorder traversal of binary tree is\n",
            "1\n",
            "2\n",
            "4\n",
            "5\n",
            "3\n",
            "\n",
            "Inorder traversal of binary tree is\n",
            "4\n",
            "2\n",
            "5\n",
            "1\n",
            "3\n",
            "\n",
            "Postorder traversal of binary tree is\n",
            "4\n",
            "5\n",
            "2\n",
            "3\n",
            "1\n"
          ],
          "name": "stdout"
        }
      ]
    },
    {
      "cell_type": "code",
      "metadata": {
        "id": "I7DjdJJBLK4J"
      },
      "source": [
        "# Time:  O(n) Space: O(1)\r\n",
        "class TreeNode(object):\r\n",
        "    def __init__(self, x):\r\n",
        "        self.val = x\r\n",
        "        self.left = None\r\n",
        "        self.right = None\r\n",
        "# Morris Traversal Solution\r\n",
        "class Solution(object):\r\n",
        "    def inorderTraversal(self, root):\r\n",
        "        \"\"\"\r\n",
        "        :type root: TreeNode\r\n",
        "        :rtype: List[int]\r\n",
        "        \"\"\"\r\n",
        "        result, curr = [], root\r\n",
        "        while curr:\r\n",
        "            if curr.left is None:\r\n",
        "                result.append(curr.val)\r\n",
        "                curr = curr.right\r\n",
        "            else:\r\n",
        "                node = curr.left\r\n",
        "                while node.right and node.right != curr:\r\n",
        "                    node = node.right\r\n",
        "\r\n",
        "                if node.right is None:\r\n",
        "                    node.right = curr\r\n",
        "                    curr = curr.left\r\n",
        "                else:\r\n",
        "                    result.append(curr.val)\r\n",
        "                    node.right = None\r\n",
        "                    curr = curr.right\r\n",
        "        return result"
      ],
      "execution_count": 55,
      "outputs": []
    },
    {
      "cell_type": "code",
      "metadata": {
        "id": "7pmm7YX3LUDe"
      },
      "source": [
        "# Time:  O(n) Space: O(h)\r\n",
        "# Stack Solution\r\n",
        "class Solution2(object):\r\n",
        "    def inorderTraversal(self, root):\r\n",
        "        \"\"\"\r\n",
        "        :type root: TreeNode\r\n",
        "        :rtype: List[int]\r\n",
        "        \"\"\"\r\n",
        "        result, stack = [], [(root, False)]\r\n",
        "        while stack:\r\n",
        "            root, is_visited = stack.pop()\r\n",
        "            if root is None:\r\n",
        "                continue\r\n",
        "            if is_visited:\r\n",
        "                result.append(root.val)\r\n",
        "            else:\r\n",
        "                stack.append((root.right, False))\r\n",
        "                stack.append((root, True))\r\n",
        "                stack.append((root.left, False))\r\n",
        "        return result"
      ],
      "execution_count": 56,
      "outputs": []
    },
    {
      "cell_type": "markdown",
      "metadata": {
        "id": "t04ERj_fIDqn"
      },
      "source": [
        "## **Zigzag traversal of binary tree**"
      ]
    },
    {
      "cell_type": "code",
      "metadata": {
        "colab": {
          "base_uri": "https://localhost:8080/"
        },
        "id": "efitcN2EIEA0",
        "outputId": "78d29528-34d5-41e0-a63b-93a8ca5c084d"
      },
      "source": [
        "class Node: \r\n",
        "    def __init__(self, data): \r\n",
        "        self.data = data \r\n",
        "        self.left = self.right = None\r\n",
        "   \r\n",
        "# function to print zigzag traversal of binary tree \r\n",
        "def zizagtraversal(root): \r\n",
        "    if root is None: \r\n",
        "        return\r\n",
        "    # Create two stacks to store current and next level \r\n",
        "    currentLevel = [] \r\n",
        "    nextLevel = []  \r\n",
        "    ltr = True \r\n",
        "    currentLevel.append(root) \r\n",
        "    # Check if stack is empty \r\n",
        "    while len(currentLevel) > 0: \r\n",
        "        temp = currentLevel.pop(-1) \r\n",
        "        print(temp.data, \" \", end=\"\") \r\n",
        "        if ltr: \r\n",
        "            if temp.left: \r\n",
        "                nextLevel.append(temp.left) \r\n",
        "            if temp.right: \r\n",
        "                nextLevel.append(temp.right) \r\n",
        "        else: \r\n",
        "            if temp.right: \r\n",
        "                nextLevel.append(temp.right) \r\n",
        "            if temp.left: \r\n",
        "                nextLevel.append(temp.left) \r\n",
        "  \r\n",
        "        if len(currentLevel) == 0: \r\n",
        "            ltr = not ltr \r\n",
        "            currentLevel, nextLevel = nextLevel, currentLevel \r\n",
        "# Driver program to check above function \r\n",
        "root = Node(1) \r\n",
        "root.left = Node(2) \r\n",
        "root.right = Node(3) \r\n",
        "root.left.left = Node(7) \r\n",
        "root.left.right = Node(6) \r\n",
        "root.right.left = Node(5) \r\n",
        "root.right.right = Node(4) \r\n",
        "print(\"Zigzag Order traversal of binary tree is\") \r\n",
        "zizagtraversal(root) "
      ],
      "execution_count": 10,
      "outputs": [
        {
          "output_type": "stream",
          "text": [
            "Zigzag Order traversal of binary tree is\n",
            "1  3  2  7  6  5  4  "
          ],
          "name": "stdout"
        }
      ]
    },
    {
      "cell_type": "markdown",
      "metadata": {
        "id": "nw_MQ3Njd8lw"
      },
      "source": [
        "## **Check if a BST is a valid**\r\n"
      ]
    },
    {
      "cell_type": "code",
      "metadata": {
        "id": "Wc3GSOHGklAq"
      },
      "source": [
        "import sys\r\n",
        "class TreeNode(object):\r\n",
        "    def __init__(self, val=0, left=None, right=None):\r\n",
        "        self.val = val\r\n",
        "        self.left = left\r\n",
        "        self.right = right\r\n",
        "        \r\n",
        "class Solution(object):\r\n",
        "    def isValidBST(self, root):\r\n",
        "        \"\"\"\r\n",
        "        :type root: TreeNode\r\n",
        "        :rtype: bool\r\n",
        "        \"\"\"\r\n",
        "        def check(root, l, r):\r\n",
        "            if root == None:\r\n",
        "                return True\r\n",
        "            val = root.val\r\n",
        "            if val <= l or val >= r:\r\n",
        "                return False\r\n",
        "            return check(root.left, l, val) and check(root.right, val, r)\r\n",
        "        return check(root, float('-inf'), float('inf'))"
      ],
      "execution_count": null,
      "outputs": []
    },
    {
      "cell_type": "code",
      "metadata": {
        "colab": {
          "base_uri": "https://localhost:8080/"
        },
        "id": "A37JL8mWeEer",
        "outputId": "9d97a576-94ec-4154-8ebe-7469167b0946"
      },
      "source": [
        "import sys\r\n",
        "# Node class\r\n",
        "class Node: \r\n",
        "    def __init__(self, data): \r\n",
        "      self.data = data \r\n",
        "      self.left = None\r\n",
        "      self.right = None\r\n",
        "\r\n",
        "# A function to check if a binary tree is BST.\r\n",
        "    def isBST(root, left, right):\r\n",
        "      # Base case. An empty tree is a BST.\r\n",
        "      if root == None:\r\n",
        "        return 1\r\n",
        "      # Checking if a key is outside the permitted range.\r\n",
        "      if root.data <= left:\r\n",
        "        return 0\r\n",
        "      if root.data >= right:\r\n",
        "        return 0\r\n",
        "      # Sending in updates ranges to the right and left subtree\r\n",
        "      return isBST(root.right, root.data, right) and isBST(root.left, left, root.data) \r\n",
        "\r\n",
        "# Creating a BST\r\n",
        "root = Node(6) \r\n",
        "root.left = Node(7) \r\n",
        "root.right = Node(9) \r\n",
        "root.left.left = Node(1) \r\n",
        "root.left.right = Node(5) \r\n",
        "root.right.left = Node(7)\r\n",
        "root.right.right = Node(17)\r\n",
        "\r\n",
        "# Passing in the word size of the machine\r\n",
        "left = -sys.maxsize - 1\r\n",
        "right = sys.maxsize\r\n",
        "if(isBST(root, left, right)):\r\n",
        "  print(\"This binary tree is a BST.\")\r\n",
        "else:\r\n",
        "  print(\"This binary tree is not a BST.\")"
      ],
      "execution_count": null,
      "outputs": [
        {
          "output_type": "stream",
          "text": [
            "This binary tree is not a BST.\n"
          ],
          "name": "stdout"
        }
      ]
    },
    {
      "cell_type": "markdown",
      "metadata": {
        "id": "h_yD0jlX0BAY"
      },
      "source": [
        "## **Minimum Depth of Binary Tree**"
      ]
    },
    {
      "cell_type": "code",
      "metadata": {
        "id": "3RnSGi6c0BNw"
      },
      "source": [
        "# Definition for a binary tree node.\r\n",
        "class Node(object):\r\n",
        "     def __init__(self, val=0, left=None, right=None):\r\n",
        "        self.val = val\r\n",
        "        self.left = left\r\n",
        "        self.right = right    \r\n",
        "class TreeNode(object):\r\n",
        "    def minDepth(self, root):\r\n",
        "        \"\"\"\r\n",
        "        :type root: TreeNode\r\n",
        "        :rtype: int\r\n",
        "        \"\"\"\r\n",
        "        if root == None:\r\n",
        "            return 0\r\n",
        "        if root.left == None and root.right == None:\r\n",
        "            return 1\r\n",
        "        if not root.left:\r\n",
        "            return 1 + self.minDepth(root.right)\r\n",
        "        elif not root.right:\r\n",
        "            return 1 + self.minDepth(root.left)\r\n",
        "        return 1 + min(self.minDepth(root.left), self.minDepth(root.right))\r\n",
        "# Driver code\r\n",
        "root = Node(1)\r\n",
        "root.left = Node(2)\r\n",
        "root.right = Node(3)\r\n",
        "root.left.left = Node(4)\r\n",
        "root.right.left = Node(5)\r\n",
        "root.right.right = Node(6)\r\n",
        "root.right.right.left = Node(8)\r\n",
        "root.right.left.right = Node(7)\r\n",
        "# print(\"The min depth is:\", minDepth(root.data))"
      ],
      "execution_count": 48,
      "outputs": []
    },
    {
      "cell_type": "markdown",
      "metadata": {
        "id": "-FHfpy-H_3wK"
      },
      "source": [
        "## **Invert Binary Tree**"
      ]
    },
    {
      "cell_type": "code",
      "metadata": {
        "id": "Mdbm_YiaOr_5"
      },
      "source": [
        "# Time:  O(n) Space: O(h)\r\n",
        "import collections\r\n",
        "# BFS solution.\r\n",
        "class Queue(object):\r\n",
        "    def __init__(self):\r\n",
        "        self.data = collections.deque()\r\n",
        "    def push(self, x):\r\n",
        "        self.data.append(x)\r\n",
        "    def peek(self):\r\n",
        "        return self.data[0]\r\n",
        "    def pop(self):\r\n",
        "        return self.data.popleft()\r\n",
        "    def size(self):\r\n",
        "        return len(self.data)\r\n",
        "    def empty(self):\r\n",
        "        return len(self.data) == 0\r\n",
        "\r\n",
        "# Definition for a binary tree node.\r\n",
        "class TreeNode:\r\n",
        "    def __init__(self, x):\r\n",
        "        self.val = x\r\n",
        "        self.left = None\r\n",
        "        self.right = None\r\n",
        "        \r\n",
        "class Solution(object):\r\n",
        "    def invertTree(self, root):\r\n",
        "        if root is not None:\r\n",
        "            nodes = Queue()\r\n",
        "            nodes.push(root)\r\n",
        "            while not nodes.empty():\r\n",
        "                node = nodes.pop()\r\n",
        "                node.left, node.right = node.right, node.left\r\n",
        "                if node.left is not None:\r\n",
        "                    nodes.push(node.left)\r\n",
        "                if node.right is not None:\r\n",
        "                    nodes.push(node.right)\r\n",
        "        return root"
      ],
      "execution_count": 59,
      "outputs": []
    },
    {
      "cell_type": "code",
      "metadata": {
        "id": "W14xaBxrADoP"
      },
      "source": [
        "# Time:  O(n) Space: O(h)\r\n",
        "# Stack solution.\r\n",
        "class Solution2(object):\r\n",
        "    def invertTree(self, root):\r\n",
        "        if root is not None:\r\n",
        "            nodes = []\r\n",
        "            nodes.append(root)\r\n",
        "            while nodes:\r\n",
        "                node = nodes.pop()\r\n",
        "                node.left, node.right = node.right, node.left\r\n",
        "                if node.left is not None:\r\n",
        "                    nodes.append(node.left)\r\n",
        "                if node.right is not None:\r\n",
        "                    nodes.append(node.right)\r\n",
        "        return root"
      ],
      "execution_count": 60,
      "outputs": []
    },
    {
      "cell_type": "code",
      "metadata": {
        "id": "dfAocj_MAuPO"
      },
      "source": [
        "# Time:  O(n)\r\n",
        "# Space: O(h)\r\n",
        "# DFS, Recursive solution.\r\n",
        "class Solution3(object):\r\n",
        "    def invertTree(self, root):\r\n",
        "        if root is not None:\r\n",
        "            root.left, root.right = self.invertTree(root.right), \\\r\n",
        "                                    self.invertTree(root.left)\r\n",
        "        return root"
      ],
      "execution_count": 61,
      "outputs": []
    },
    {
      "cell_type": "code",
      "metadata": {
        "id": "3EjA9CFLCAVO"
      },
      "source": [
        "def invertTree(node):  \r\n",
        "    if (node == None): \r\n",
        "        return\r\n",
        "    else: \r\n",
        "        temp = node   \r\n",
        "        \"\"\" do the subtrees \"\"\"\r\n",
        "        invertTree(node.left)  \r\n",
        "        invertTree(node.right)  \r\n",
        "        \"\"\" swap the pointers in this node \"\"\"\r\n",
        "        temp = node.left  \r\n",
        "        node.left = node.right  \r\n",
        "        node.right = temp  "
      ],
      "execution_count": 62,
      "outputs": []
    },
    {
      "cell_type": "markdown",
      "metadata": {
        "id": "m8J2XJacT76g"
      },
      "source": [
        "### **Everything Binary Trees by Pythonds**"
      ]
    },
    {
      "cell_type": "code",
      "metadata": {
        "id": "rfbIbErHT8Hu"
      },
      "source": [
        "class TreeNode:\r\n",
        "    def __init__(self, key, value, left=None, right=None, parent=None):\r\n",
        "        self.key = key\r\n",
        "        self.value = value\r\n",
        "        self.left_child = left\r\n",
        "        self.right_child = right\r\n",
        "        self.parent = parent\r\n",
        "\r\n",
        "    def is_left_child(self):\r\n",
        "        return self.parent and self.parent.left_child is self\r\n",
        "\r\n",
        "    def is_right_child(self):\r\n",
        "        return self.parent and self.parent.right_child is self\r\n",
        "\r\n",
        "    def is_root(self):\r\n",
        "        return not self.parent\r\n",
        "\r\n",
        "    def is_leaf(self):\r\n",
        "        return not (self.right_child or self.left_child)\r\n",
        "\r\n",
        "    def has_a_child(self):\r\n",
        "        return self.right_child or self.left_child\r\n",
        "\r\n",
        "    def has_children(self):\r\n",
        "        return self.right_child and self.left_child\r\n",
        "\r\n",
        "    def replace_value(self, key, value, left, right):\r\n",
        "        self.key = key\r\n",
        "        self.value = value\r\n",
        "        self.left_child = left\r\n",
        "        self.right_child = right\r\n",
        "        if self.left_child:\r\n",
        "            self.left_child.parent = self\r\n",
        "        if self.right_child:\r\n",
        "            self.right_child.parent = self\r\n",
        "\r\n",
        "    def find_successor(self):\r\n",
        "        successor = None\r\n",
        "        if self.right_child:\r\n",
        "            successor = self.right_child.find_min()\r\n",
        "        else:\r\n",
        "            if self.parent:\r\n",
        "                if self.is_left_child():\r\n",
        "                    successor = self.parent\r\n",
        "                else:\r\n",
        "                    self.parent.right_child = None\r\n",
        "                    successor = self.parent.find_successor()\r\n",
        "                    self.parent.right_child = self\r\n",
        "        return successor\r\n",
        "\r\n",
        "    def find_min(self):\r\n",
        "        current = self\r\n",
        "        while current.left_child:\r\n",
        "            current = current.left_child\r\n",
        "        return current\r\n",
        "\r\n",
        "    def splice_out(self):\r\n",
        "        if self.is_leaf():\r\n",
        "            if self.is_left_child():\r\n",
        "                self.parent.left_child = None\r\n",
        "            else:\r\n",
        "                self.parent.right_child = None\r\n",
        "        elif self.has_a_child():\r\n",
        "            if self.left_child:\r\n",
        "                if self.is_left_child():\r\n",
        "                    self.parent.left_child = self.left_child\r\n",
        "                else:\r\n",
        "                    self.parent.right_child = self.left_child\r\n",
        "                self.left_child.parent = self.parent\r\n",
        "            else:\r\n",
        "                if self.is_left_child():\r\n",
        "                    self.parent.left_child = self.right_child\r\n",
        "                else:\r\n",
        "                    self.parent.right_child = self.right_child\r\n",
        "                self.right_child.parent = self.parent\r\n",
        "\r\n",
        "    def __iter__(self):\r\n",
        "        if self:\r\n",
        "            if self.left_child:\r\n",
        "                for elem in self.left_child:\r\n",
        "                    yield elem\r\n",
        "            yield self.key\r\n",
        "            if self.right_child:\r\n",
        "                for elem in self.right_child:\r\n",
        "                    yield elem\r\n",
        "\r\n",
        "\r\n",
        "class BinarySearchTree:\r\n",
        "    def __init__(self):\r\n",
        "        self.root = None\r\n",
        "        self.size = 0\r\n",
        "\r\n",
        "    def __len__(self):\r\n",
        "        return self.size\r\n",
        "\r\n",
        "    def __iter__(self):\r\n",
        "        return self.root.__iter__()\r\n",
        "\r\n",
        "    def put(self, key, value):\r\n",
        "        if self.root:\r\n",
        "            self._put(key, value, self.root)\r\n",
        "        else:\r\n",
        "            self.root = TreeNode(key, value)\r\n",
        "        self.size = self.size + 1\r\n",
        "\r\n",
        "    def _put(self, key, value, current_node):\r\n",
        "        if key < current_node.key:\r\n",
        "            if current_node.left_child:\r\n",
        "                self._put(key, value, current_node.left_child)\r\n",
        "            else:\r\n",
        "                current_node.left_child = TreeNode(\r\n",
        "                    key, value, parent=current_node\r\n",
        "                )\r\n",
        "        else:\r\n",
        "            if current_node.right_child:\r\n",
        "                self._put(key, value, current_node.right_child)\r\n",
        "            else:\r\n",
        "                current_node.right_child = TreeNode(\r\n",
        "                    key, value, parent=current_node\r\n",
        "                )\r\n",
        "\r\n",
        "    def __setitem__(self, key, value):\r\n",
        "        self.put(key, value)\r\n",
        "\r\n",
        "    def get(self, key):\r\n",
        "        if self.root:\r\n",
        "            result = self._get(key, self.root)\r\n",
        "            if result:\r\n",
        "                return result.value\r\n",
        "        return None\r\n",
        "\r\n",
        "    def _get(self, key, current_node):\r\n",
        "        if not current_node:\r\n",
        "            return None\r\n",
        "        if current_node.key == key:\r\n",
        "            return current_node\r\n",
        "        elif key < current_node.key:\r\n",
        "            return self._get(key, current_node.left_child)\r\n",
        "        else:\r\n",
        "            return self._get(key, current_node.right_child)\r\n",
        "\r\n",
        "    def __getitem__(self, key):\r\n",
        "        return self.get(key)\r\n",
        "\r\n",
        "    def __contains__(self, key):\r\n",
        "        return bool(self._get(key, self.root))\r\n",
        "\r\n",
        "    def delete(self, key):\r\n",
        "        if self.size > 1:\r\n",
        "            node_to_remove = self._get(key, self.root)\r\n",
        "            if node_to_remove:\r\n",
        "                self._delete(node_to_remove)\r\n",
        "                self.size = self.size - 1\r\n",
        "            else:\r\n",
        "                raise KeyError(\"Error, key not in tree\")\r\n",
        "        elif self.size == 1 and self.root.key == key:\r\n",
        "            self.root = None\r\n",
        "            self.size = self.size - 1\r\n",
        "        else:\r\n",
        "            raise KeyError(\"Error, key not in tree\")\r\n",
        "\r\n",
        "    def _delete(self, current_node):\r\n",
        "        if current_node.is_leaf():  # removing a leaf\r\n",
        "            if current_node == current_node.parent.left_child:\r\n",
        "                current_node.parent.left_child = None\r\n",
        "            else:\r\n",
        "                current_node.parent.right_child = None\r\n",
        "        elif current_node.has_children():  # removing a node with two children\r\n",
        "            successor = current_node.find_successor()\r\n",
        "            successor.splice_out()\r\n",
        "            current_node.key = successor.key\r\n",
        "            current_node.value = successor.value\r\n",
        "        else:  # removing a node with one child\r\n",
        "            if current_node.left_child:\r\n",
        "                if current_node.is_left_child():\r\n",
        "                    current_node.left_child.parent = current_node.parent\r\n",
        "                    current_node.parent.left_child = current_node.left_child\r\n",
        "                elif current_node.is_right_child():\r\n",
        "                    current_node.left_child.parent = current_node.parent\r\n",
        "                    current_node.parent.right_child = current_node.left_child\r\n",
        "                else:\r\n",
        "                    current_node.replace_value(\r\n",
        "                        current_node.left_child.key,\r\n",
        "                        current_node.left_child.value,\r\n",
        "                        current_node.left_child.left_child,\r\n",
        "                        current_node.left_child.right_child,\r\n",
        "                    )\r\n",
        "            else:\r\n",
        "                if current_node.is_left_child():\r\n",
        "                    current_node.right_child.parent = current_node.parent\r\n",
        "                    current_node.parent.left_child = current_node.right_child\r\n",
        "                elif current_node.is_right_child():\r\n",
        "                    current_node.right_child.parent = current_node.parent\r\n",
        "                    current_node.parent.right_child = current_node.right_child\r\n",
        "                else:\r\n",
        "                    current_node.replace_value(\r\n",
        "                        current_node.right_child.key,\r\n",
        "                        current_node.right_child.value,\r\n",
        "                        current_node.right_child.left_child,\r\n",
        "                        current_node.right_child.right_child,\r\n",
        "                    )\r\n",
        "\r\n",
        "    def __delitem__(self, key):\r\n",
        "        self.delete(key)\r\n",
        "\r\n",
        "\r\n",
        "my_tree = BinarySearchTree()\r\n",
        "my_tree[\"a\"] = \"a\"\r\n",
        "my_tree[\"q\"] = \"quick\"\r\n",
        "my_tree[\"b\"] = \"brown\"\r\n",
        "my_tree[\"f\"] = \"fox\"\r\n",
        "my_tree[\"j\"] = \"jumps\"\r\n",
        "my_tree[\"o\"] = \"over\"\r\n",
        "my_tree[\"t\"] = \"the\"\r\n",
        "my_tree[\"l\"] = \"lazy\"\r\n",
        "my_tree[\"d\"] = \"dog\"\r\n",
        "\r\n",
        "print(my_tree[\"q\"])\r\n",
        "print(my_tree[\"l\"])\r\n",
        "print(\"There are {} items in this tree\".format(len(my_tree)))\r\n",
        "my_tree.delete(\"a\")\r\n",
        "print(\"There are {} items in this tree\".format(len(my_tree)))\r\n",
        "\r\n",
        "for node in my_tree:\r\n",
        "    print(my_tree[node], end=\" \")\r\n",
        "print()"
      ],
      "execution_count": null,
      "outputs": []
    },
    {
      "cell_type": "markdown",
      "metadata": {
        "id": "H2j6avs8PF9R"
      },
      "source": [
        ""
      ]
    },
    {
      "cell_type": "markdown",
      "metadata": {
        "id": "CM3xhhASyKyN"
      },
      "source": [
        "#**LINKEDLISTS**"
      ]
    },
    {
      "cell_type": "markdown",
      "metadata": {
        "id": "M-JsKsiCyPL-"
      },
      "source": [
        "The basic building block for the linked list implementation is the node.Each node object must hold at least two pieces of information. First, the node \r\n",
        "must contain the list item itself. We will call this the **data field** of the node. In addition, each node must hold a **reference** to the **next nod**\r\n",
        "\r\n",
        "\r\n",
        "---\r\n",
        "\r\n",
        "\r\n",
        "The location of the first item of the list must be explicitly specified. Once we know where the first item is, the first item can tell us where the second is, and so on. \r\n",
        "\r\n",
        "---\r\n",
        "\r\n",
        "\r\n",
        "The external reference is often referred to as the **head** of the list. Similarly, the **last** item needs to know that there is no next item\r\n",
        "\r\n",
        "\r\n",
        "---\r\n",
        "A reference to **None** will denote the fact that there is **no next node**. Note in the constructor that a node is initially created with next set to None\r\n"
      ]
    },
    {
      "cell_type": "markdown",
      "metadata": {
        "id": "jnvoiq2MzQLv"
      },
      "source": [
        "## **Implementation of Linked List**"
      ]
    },
    {
      "cell_type": "markdown",
      "metadata": {
        "id": "k95qriqG_zQE"
      },
      "source": [
        "### **The Unordered List Class**\r\n",
        "Built from a collection of nodes, each linked to the next by explicit references. As long as we know where to find the first node, each item after that can be found by successively following the next links. With this in mind, the UnorderedList class must maintain a reference to the first node"
      ]
    },
    {
      "cell_type": "code",
      "metadata": {
        "colab": {
          "base_uri": "https://localhost:8080/"
        },
        "id": "taBj0jUCzPqS",
        "outputId": "eae0c9e0-a7e3-4a87-8661-6c69a1f560a2"
      },
      "source": [
        "class Node:\r\n",
        "    def __init__(self,initdata):\r\n",
        "        self.data = initdata\r\n",
        "        self.next = None\r\n",
        "\r\n",
        "    def getData(self):\r\n",
        "        return self.data\r\n",
        "\r\n",
        "    def getNext(self):\r\n",
        "        return self.next\r\n",
        "\r\n",
        "    def setData(self,newdata):\r\n",
        "        self.data = newdata\r\n",
        "\r\n",
        "    def setNext(self,newnext):\r\n",
        "        self.next = newnext\r\n",
        "\r\n",
        "\r\n",
        "class UnorderedList:\r\n",
        "\r\n",
        "    def __init__(self):\r\n",
        "        self.head = None\r\n",
        "\r\n",
        "    def isEmpty(self):\r\n",
        "        return self.head == None\r\n",
        "\r\n",
        "    def add(self,item):\r\n",
        "        temp = Node(item)\r\n",
        "        temp.setNext(self.head)\r\n",
        "        self.head = temp\r\n",
        "\r\n",
        "    def size(self):\r\n",
        "        current = self.head\r\n",
        "        count = 0\r\n",
        "        while current != None:\r\n",
        "            count = count + 1\r\n",
        "            current = current.getNext()\r\n",
        "\r\n",
        "        return count\r\n",
        "\r\n",
        "    def search(self,item):\r\n",
        "        current = self.head\r\n",
        "        found = False\r\n",
        "        while current != None and not found:\r\n",
        "            if current.getData() == item:\r\n",
        "                found = True\r\n",
        "            else:\r\n",
        "                current = current.getNext()\r\n",
        "\r\n",
        "        return found\r\n",
        "\r\n",
        "    def remove(self,item):\r\n",
        "        current = self.head\r\n",
        "        previous = None\r\n",
        "        found = False\r\n",
        "        while not found:\r\n",
        "            if current.getData() == item:\r\n",
        "                found = True\r\n",
        "            else:\r\n",
        "                previous = current\r\n",
        "                current = current.getNext()\r\n",
        "\r\n",
        "        if previous == None:\r\n",
        "            self.head = current.getNext()\r\n",
        "        else:\r\n",
        "            previous.setNext(current.getNext())\r\n",
        "\r\n",
        "mylist = UnorderedList()\r\n",
        "\r\n",
        "mylist.add(31)\r\n",
        "mylist.add(77)\r\n",
        "mylist.add(17)\r\n",
        "mylist.add(93)\r\n",
        "mylist.add(26)\r\n",
        "mylist.add(54)\r\n",
        "\r\n",
        "print(mylist.size())\r\n",
        "print(mylist.search(93))\r\n",
        "print(mylist.search(100))\r\n",
        "\r\n",
        "mylist.add(100)\r\n",
        "print(mylist.search(100))\r\n",
        "print(mylist.size())\r\n",
        "\r\n",
        "mylist.remove(54)\r\n",
        "print(mylist.size())\r\n",
        "mylist.remove(93)\r\n",
        "print(mylist.size())\r\n",
        "mylist.remove(31)\r\n",
        "print(mylist.size())\r\n",
        "print(mylist.search(93))"
      ],
      "execution_count": null,
      "outputs": [
        {
          "output_type": "stream",
          "text": [
            "6\n",
            "True\n",
            "False\n",
            "True\n",
            "7\n",
            "6\n",
            "5\n",
            "4\n",
            "False\n"
          ],
          "name": "stdout"
        }
      ]
    },
    {
      "cell_type": "markdown",
      "metadata": {
        "id": "LQaCCMG_FKFD"
      },
      "source": [
        "### **Linked list has a cycle**\r\n",
        "Given head, the head of a linked list, determine if the linked list has a cycle in it.\r\n",
        "\r\n",
        "There is a cycle in a linked list if there is some node in the list that can be reached again by continuously following the next pointer. Internally, pos is used to denote the index of the node that tail’s next pointer is connected to. Note that pos is not passed as a parameter.\r\n",
        "\r\n",
        "Return true if there is a cycle in the linked list. Otherwise, return false."
      ]
    },
    {
      "cell_type": "code",
      "metadata": {
        "id": "yyvVzZUPFQNQ"
      },
      "source": [
        "class Solution(object):\r\n",
        "    def hasCycle(self, head):\r\n",
        "        \"\"\"\r\n",
        "        :type head: ListNode\r\n",
        "        :rtype: bool\r\n",
        "        \"\"\"\r\n",
        "        fast = slow = head\r\n",
        "        while fast and fast.next:\r\n",
        "            fast = fast.next.next\r\n",
        "            slow = slow.next\r\n",
        "            if slow == fast:\r\n",
        "                return True\r\n",
        "        return False"
      ],
      "execution_count": null,
      "outputs": []
    },
    {
      "cell_type": "markdown",
      "metadata": {
        "id": "pHKCB-cmGBM7"
      },
      "source": [
        "Given a linked list, return the node where the cycle begins. If there is no cycle, return null.There is a cycle in a linked list if there is some node in the list that can be reached again by continuously following the next pointer. Internally, pos is used to denote the index of the node that tail’s next pointer is connected to. Note that pos is not passed as a parameter.\r\n",
        "Notice that you should not modify the linked list.\r\n",
        "Follow up:\r\n",
        "Can you solve it using O(1) (i.e. constant) memory?"
      ]
    },
    {
      "cell_type": "code",
      "metadata": {
        "id": "qRQs1orTIW1D"
      },
      "source": [
        "# Time:  O(n)\r\n",
        "# Space: O(1)\r\n",
        "class ListNode(object):\r\n",
        "    def __init__(self, x):\r\n",
        "        self.val = x\r\n",
        "        self.next = None\r\n",
        "class Solution(object):\r\n",
        "    def removeElements(self, head, val):\r\n",
        "        dummy = ListNode(float(\"-inf\"))\r\n",
        "        dummy.next = head\r\n",
        "        prev, curr = dummy, dummy.next\r\n",
        "        while curr:\r\n",
        "            if curr.val == val:\r\n",
        "                prev.next = curr.next\r\n",
        "            else:\r\n",
        "                prev = curr\r\n",
        "            curr = curr.next\r\n",
        "        return dummy.next"
      ],
      "execution_count": null,
      "outputs": []
    },
    {
      "cell_type": "markdown",
      "metadata": {
        "id": "X2LTj-uyRtgI"
      },
      "source": [
        "## **Linked List | Set 3 (Deleting a node)**"
      ]
    },
    {
      "cell_type": "code",
      "metadata": {
        "colab": {
          "base_uri": "https://localhost:8080/"
        },
        "id": "aNErewxuUmhR",
        "outputId": "a0a286ce-c5a4-42fe-dd29-0625d41783cb"
      },
      "source": [
        "class Node: \r\n",
        "    def __init__(self, data): \r\n",
        "        self.data = data \r\n",
        "        self.next = None\r\n",
        "class LinkedList: \r\n",
        "    def __init__(self): \r\n",
        "        self.head = None\r\n",
        "    def push(self, new_data): \r\n",
        "        new_node = Node(new_data) \r\n",
        "        new_node.next = self.head \r\n",
        "        self.head = new_node \r\n",
        "    def deleteNode(self, key):  \r\n",
        "        temp = self.head \r\n",
        "        if (temp is not None): \r\n",
        "            if (temp.data == key): \r\n",
        "                self.head = temp.next\r\n",
        "                temp = None\r\n",
        "                return\r\n",
        "        while(temp is not None): \r\n",
        "            if temp.data == key: \r\n",
        "                break\r\n",
        "            prev = temp \r\n",
        "            temp = temp.next\r\n",
        "        if(temp == None): \r\n",
        "            return\r\n",
        "        prev.next = temp.next\r\n",
        "        temp = None\r\n",
        "    def printList(self): \r\n",
        "        temp = self.head \r\n",
        "        while(temp): \r\n",
        "            print (\" %d\" %(temp.data)), \r\n",
        "            temp = temp.next\r\n",
        "# Driver program \r\n",
        "llist = LinkedList() \r\n",
        "llist.push(7) \r\n",
        "llist.push(1) \r\n",
        "llist.push(3) \r\n",
        "llist.push(2) \r\n",
        "print (\"Created Linked List: \")\r\n",
        "llist.printList() \r\n",
        "llist.deleteNode(1) \r\n",
        "print (\"\\nLinked List after Deletion of 1:\")\r\n",
        "llist.printList() "
      ],
      "execution_count": null,
      "outputs": [
        {
          "output_type": "stream",
          "text": [
            "Created Linked List: \n",
            " 2\n",
            " 3\n",
            " 1\n",
            " 7\n",
            "\n",
            "Linked List after Deletion of 1:\n",
            " 2\n",
            " 3\n",
            " 7\n"
          ],
          "name": "stdout"
        }
      ]
    },
    {
      "cell_type": "markdown",
      "metadata": {
        "id": "PQUBmY55XjyF"
      },
      "source": [
        "##**Check if a linked list is circular**"
      ]
    },
    {
      "cell_type": "code",
      "metadata": {
        "colab": {
          "base_uri": "https://localhost:8080/"
        },
        "id": "ofBdlAtHXj_k",
        "outputId": "e968f4de-3493-43fb-a6cc-5c3c52018444"
      },
      "source": [
        "class Node:   \r\n",
        "    def __init__(self, data):  \r\n",
        "        self.data = data \r\n",
        "        self.next = None \r\n",
        "\r\n",
        "class LinkedList:   \r\n",
        "    def __init__(self):  \r\n",
        "        self.head = None\r\n",
        "\r\n",
        "def Circular(head): \r\n",
        "    if head==None: \r\n",
        "        return True\r\n",
        "    node = head.next\r\n",
        "    i = 0\r\n",
        "    while((node is not None) and (node is not head)): \r\n",
        "        i = i + 1\r\n",
        "        node = node.next\r\n",
        "    return(node==head) \r\n",
        "  \r\n",
        "# Code execution starts here  \r\n",
        "if __name__=='__main__': \r\n",
        "    llist = LinkedList()  \r\n",
        "    llist.head = Node(1) \r\n",
        "    second = Node(2) \r\n",
        "    third = Node(3)  \r\n",
        "    fourth = Node(4) \r\n",
        "      \r\n",
        "    #test1\r\n",
        "    llist.head.next = second; \r\n",
        "    second.next = third; \r\n",
        "    third.next = fourth   \r\n",
        "    if (Circular(llist.head)): \r\n",
        "        print('Yes') \r\n",
        "    else: \r\n",
        "        print('No') \r\n",
        "    #test2\r\n",
        "    fourth.next = llist.head \r\n",
        "    if (Circular(llist.head)): \r\n",
        "        print('Yes') \r\n",
        "    else: \r\n",
        "        print('No') "
      ],
      "execution_count": null,
      "outputs": [
        {
          "output_type": "stream",
          "text": [
            "No\n",
            "Yes\n"
          ],
          "name": "stdout"
        }
      ]
    },
    {
      "cell_type": "markdown",
      "metadata": {
        "id": "neQctmUdJMgY"
      },
      "source": [
        "### **Intersection of Two Linked Lists**\r\n",
        "Write a program to find the node at which the intersection of two singly linked lists begins."
      ]
    },
    {
      "cell_type": "code",
      "metadata": {
        "id": "Nz9jS8LzIq66"
      },
      "source": [
        "# Time:  O(m + n)\r\n",
        "# Space: O(1)\r\n",
        "#Definition for singly-linked list.\r\n",
        "class ListNode(object):\r\n",
        "    def __init__(self, x):\r\n",
        "        self.val = x\r\n",
        "        self.next = None\r\n",
        "class Solution(object):\r\n",
        "    def getIntersectionNode(self, headA, headB):\r\n",
        "        \"\"\"\r\n",
        "        :type head1, head1: ListNode\r\n",
        "        :rtype: ListNode\r\n",
        "        \"\"\"\r\n",
        "        curA, curB = headA, headB\r\n",
        "        while curA != curB:\r\n",
        "            curA = curA.next if curA else headB\r\n",
        "            curB = curB.next if curB else headA\r\n",
        "        return curA"
      ],
      "execution_count": null,
      "outputs": []
    },
    {
      "cell_type": "markdown",
      "metadata": {
        "id": "g9SJpjovbwJB"
      },
      "source": [
        "# **STACKS**"
      ]
    },
    {
      "cell_type": "markdown",
      "metadata": {
        "id": "eMCvYmC4btnl"
      },
      "source": [
        "A **stack** is a data structure that stores items in an **Last-In/First-Out** manner. This is frequently referred to as LIFO. "
      ]
    },
    {
      "cell_type": "markdown",
      "metadata": {
        "id": "cFJqxpgzXJFu"
      },
      "source": [
        "## **Stack Implementation Using Lists**"
      ]
    },
    {
      "cell_type": "code",
      "metadata": {
        "colab": {
          "base_uri": "https://localhost:8080/"
        },
        "id": "c4tXNRyAWupe",
        "outputId": "86706fe9-61ea-4d56-a5ce-72be5c597222"
      },
      "source": [
        "class Stack:\r\n",
        "     def __init__(self):\r\n",
        "         self.items = []\r\n",
        "\r\n",
        "     def isEmpty(self):\r\n",
        "         return self.items == []\r\n",
        "\r\n",
        "     def push(self, item):\r\n",
        "         self.items.append(item)\r\n",
        "\r\n",
        "     def pop(self):\r\n",
        "         return self.items.pop()\r\n",
        "\r\n",
        "     def peek(self):\r\n",
        "         return self.items[len(self.items)-1]\r\n",
        "\r\n",
        "     def size(self):\r\n",
        "         return len(self.items)\r\n",
        "s=Stack()\r\n",
        "print(s.isEmpty())\r\n",
        "s.push(4)\r\n",
        "s.push('dog')\r\n",
        "print(s.peek())\r\n",
        "s.push(True)\r\n",
        "print(s.size())\r\n",
        "print(s.isEmpty())\r\n",
        "s.push(8.4)\r\n",
        "print(s.pop())\r\n",
        "print(s.pop())\r\n",
        "print(s.size())"
      ],
      "execution_count": null,
      "outputs": [
        {
          "output_type": "stream",
          "text": [
            "True\n",
            "dog\n",
            "3\n",
            "False\n",
            "8.4\n",
            "True\n",
            "2\n"
          ],
          "name": "stdout"
        }
      ]
    },
    {
      "cell_type": "markdown",
      "metadata": {
        "id": "XxOrXbyQetIc"
      },
      "source": [
        "## **Stack Implementation Using Linked Lists**"
      ]
    },
    {
      "cell_type": "code",
      "metadata": {
        "colab": {
          "base_uri": "https://localhost:8080/"
        },
        "id": "0eNUrDPdenBw",
        "outputId": "a1e3e3e9-e425-45d2-9139-75212809fe73"
      },
      "source": [
        "class Node:\r\n",
        "   def __init__(self, value):\r\n",
        "      self.value = value\r\n",
        "      self.next = None\r\n",
        " \r\n",
        "class Stack:\r\n",
        "    \r\n",
        "   # Initializing a stack. Use a dummy node, which is easier for handling edge cases. \r\n",
        "   def __init__(self):\r\n",
        "      self.head = Node(\"head\")\r\n",
        "      self.size = 0\r\n",
        " \r\n",
        "   # String representation of the stack\r\n",
        "   def __str__(self):\r\n",
        "      cur = self.head.next\r\n",
        "      out = \"\"\r\n",
        "      while cur:\r\n",
        "         out += str(cur.value) + \"->\"\r\n",
        "         cur = cur.next\r\n",
        "      return out[:-3]   \r\n",
        " \r\n",
        "   # Get the current size of the stack\r\n",
        "   def getSize(self):\r\n",
        "      return self.size\r\n",
        "    \r\n",
        "   # Check if the stack is empty\r\n",
        "   def isEmpty(self):\r\n",
        "      return self.size == 0\r\n",
        "    \r\n",
        "   # Get the top item of the stack\r\n",
        "   def peek(self): \r\n",
        "      # Sanitary check to see if we are peeking an empty stack. \r\n",
        "      if self.isEmpty():\r\n",
        "         raise Exception(\"Peeking from an empty stack\")\r\n",
        "      return self.head.next.value\r\n",
        " \r\n",
        "   # Push a value into the stack. \r\n",
        "   def push(self, value):\r\n",
        "      node = Node(value)\r\n",
        "      node.next = self.head.next\r\n",
        "      self.head.next = node\r\n",
        "      self.size += 1\r\n",
        "      \r\n",
        "   # Remove a value from the stack and return. \r\n",
        "   def pop(self):\r\n",
        "      if self.isEmpty():\r\n",
        "         raise Exception(\"Popping from an empty stack\")\r\n",
        "      remove = self.head.next\r\n",
        "      self.head.next = self.head.next.next\r\n",
        "      self.size -= 1\r\n",
        "      return remove.value\r\n",
        " \r\n",
        "# Driver Code\r\n",
        "if __name__ == \"__main__\":\r\n",
        "   stack = Stack()\r\n",
        "   for i in range(1, 11):\r\n",
        "      stack.push(i)\r\n",
        "   print(f\"Stack: {stack}\")\r\n",
        " \r\n",
        "   for _ in range(1, 6):\r\n",
        "      remove = stack.pop()\r\n",
        "      print(f\"Pop: {remove}\")\r\n",
        "   print(f\"Stack: {stack}\")"
      ],
      "execution_count": null,
      "outputs": [
        {
          "output_type": "stream",
          "text": [
            "Stack: 10->9->8->7->6->5->4->3->2->\n",
            "Pop: 10\n",
            "Pop: 9\n",
            "Pop: 8\n",
            "Pop: 7\n",
            "Pop: 6\n",
            "Stack: 5->4->3->2->\n"
          ],
          "name": "stdout"
        }
      ]
    },
    {
      "cell_type": "markdown",
      "metadata": {
        "id": "AmWjLmNifM_e"
      },
      "source": [
        "## **Applications of Stack**"
      ]
    },
    {
      "cell_type": "markdown",
      "metadata": {
        "id": "UjBaIjYWZAqM"
      },
      "source": [
        "### **Balanced Symbols**\r\n",
        "Strings of symbols such as are properly balanced in that not only does each \r\n",
        "opening symbol have a corresponding closing symbol, but the types of symbols match as well.\r\n",
        "\r\n",
        "---\r\n",
        "\r\n",
        "\r\n",
        "Each opening symbol is simply pushed on the stack to wait for the \r\n",
        "matching closing symbol to appear later in the sequence. When a closing symbol does appear, we must check to be sure that it correctly matches the type of the opening symbol on top of the stack. \r\n",
        "\r\n",
        "---\r\n",
        "\r\n",
        "\r\n",
        "If the two symbols do not match, the string \r\n",
        "is not balanced. Once again, if the entire string is processed and nothing is left on the stack, the string is correctly balanced.\r\n",
        "\r\n"
      ]
    },
    {
      "cell_type": "code",
      "metadata": {
        "colab": {
          "base_uri": "https://localhost:8080/"
        },
        "id": "9rxKvFdJZCoG",
        "outputId": "d21d0af6-d746-4d7d-947b-81bfecf9525e"
      },
      "source": [
        "from collections import deque\r\n",
        "def parChecker(symbolString):\r\n",
        "    s = Stack()\r\n",
        "    balanced = True\r\n",
        "    index = 0\r\n",
        "    while index < len(symbolString) and balanced:\r\n",
        "        symbol = symbolString[index]\r\n",
        "        if symbol in \"([{\":\r\n",
        "            s.push(symbol)\r\n",
        "        else:\r\n",
        "            if s.isEmpty():\r\n",
        "                balanced = False\r\n",
        "            else:\r\n",
        "                top = s.pop()\r\n",
        "                if not matches(top,symbol):\r\n",
        "                       balanced = False\r\n",
        "        index = index + 1\r\n",
        "    if balanced and s.isEmpty():\r\n",
        "        return True\r\n",
        "    else:\r\n",
        "        return False\r\n",
        "        \r\n",
        "def matches(open,close):\r\n",
        "    opens = \"([{\"\r\n",
        "    closers = \")]}\"\r\n",
        "    return opens.index(open) == closers.index(close)\r\n",
        "print(parChecker('{({([][])}())}'))\r\n",
        "print(parChecker('[{()]'))"
      ],
      "execution_count": null,
      "outputs": [
        {
          "output_type": "stream",
          "text": [
            "True\n",
            "False\n"
          ],
          "name": "stdout"
        }
      ]
    },
    {
      "cell_type": "markdown",
      "metadata": {
        "id": "EpbUJI1__NQw"
      },
      "source": [
        "Given a string s containing just the characters ‘(‘, ‘)’, ‘{‘, ‘}’, ‘[’ and ‘]’, determine if the input string is valid.\r\n",
        "An input string is valid if:\r\n",
        "Open brackets must be closed by the same type of brackets.\r\n",
        "Open brackets must be closed in the correct order."
      ]
    },
    {
      "cell_type": "code",
      "metadata": {
        "id": "5TQlIB46_PXD"
      },
      "source": [
        "class Solution(object):\r\n",
        "    def isValid(self, s):\r\n",
        "        \"\"\"\r\n",
        "        :type s: str\r\n",
        "        :rtype: bool\r\n",
        "        \"\"\"\r\n",
        "        stack = []\r\n",
        "        dic = {']':'[', ')':'(', '}':'{'}\r\n",
        "        for c in s:\r\n",
        "            if c not in dic:\r\n",
        "                stack.append(c)\r\n",
        "            else:\r\n",
        "                if not stack or stack.pop() != dic[c]:\r\n",
        "                    return False\r\n",
        "        return stack == []"
      ],
      "execution_count": null,
      "outputs": []
    },
    {
      "cell_type": "markdown",
      "metadata": {
        "id": "-zTOOWa_gksf"
      },
      "source": [
        "### **Converting Decimal Numbers to Binary Numbers**"
      ]
    },
    {
      "cell_type": "markdown",
      "metadata": {
        "id": "McP4uiWcgnjQ"
      },
      "source": [
        "We convert an interger into binary using an algorithm called **Divide by 2** that uses a stack to keep track of the digits for the binary result.The Divide by 2 algorithm assumes that we start with an integer greater than 0. A simple iteration then continually divides the decimal number by 2 and keeps track of the remainder.\r\n",
        "\r\n",
        "---\r\n",
        "\r\n",
        "\r\n",
        "The first division by 2 gives information as to whether the value is even or odd. An even value will have a remainder of 0. It will have the digit 0 in the ones place. An odd value will have a remainder of 1 and will have the digit 1 in the ones place. We think about building our binary number as a sequence of digits; the first remainder we compute will actually be the last digit in the sequence.  "
      ]
    },
    {
      "cell_type": "code",
      "metadata": {
        "colab": {
          "base_uri": "https://localhost:8080/"
        },
        "id": "WRy7CP4VhO9V",
        "outputId": "32244033-cd9a-4cfd-e41b-1cb90fc83bd4"
      },
      "source": [
        "from collections import deque\r\n",
        "def divideBy2(decNumber):\r\n",
        "    remstack = Stack()\r\n",
        "    while decNumber > 0:\r\n",
        "        rem = decNumber % 2\r\n",
        "        remstack.push(rem)\r\n",
        "        decNumber = decNumber // 2\r\n",
        "    binString = \"\"\r\n",
        "    while not remstack.isEmpty():\r\n",
        "        binString = binString + str(remstack.pop())\r\n",
        "    return binString\r\n",
        "print(divideBy2(456))"
      ],
      "execution_count": null,
      "outputs": [
        {
          "output_type": "stream",
          "text": [
            "111001000\n"
          ],
          "name": "stdout"
        }
      ]
    },
    {
      "cell_type": "code",
      "metadata": {
        "colab": {
          "base_uri": "https://localhost:8080/"
        },
        "id": "VuaYylN3i0Ub",
        "outputId": "fbff0385-0e3b-493c-d526-87c571fdfc2b"
      },
      "source": [
        "def baseConverter(decNumber,base):\r\n",
        "    digits = \"0123456789ABCDEF\"\r\n",
        "    remstack = Stack()\r\n",
        "    while decNumber > 0:\r\n",
        "        rem = decNumber % base\r\n",
        "        remstack.push(rem)\r\n",
        "        decNumber = decNumber // base\r\n",
        "    newString = \"\"\r\n",
        "    while not remstack.isEmpty():\r\n",
        "        newString = newString + digits[remstack.pop()]\r\n",
        "    return newString\r\n",
        "print(baseConverter(25,2))\r\n",
        "print(baseConverter(25,16))"
      ],
      "execution_count": null,
      "outputs": [
        {
          "output_type": "stream",
          "text": [
            "11001\n",
            "19\n"
          ],
          "name": "stdout"
        }
      ]
    },
    {
      "cell_type": "markdown",
      "metadata": {
        "id": "VqTFuKKro47u"
      },
      "source": [
        "#**QUEUES**"
      ]
    },
    {
      "cell_type": "markdown",
      "metadata": {
        "id": "_kx4CjsEoyuj"
      },
      "source": [
        "A queue is an ordered collection of items where the addition of new items happens at one end, called the “rear,” and the removal of existing items occurs at the other end, commonly called the “front.” \r\n",
        "\r\n",
        "---\r\n",
        "\r\n",
        "\r\n",
        "As an element enters the queue it starts at the rear and makes its way toward the front, waiting until that time when it is the next element to be removed.\r\n",
        ".The item that has been in the collection the longest is at the front.\r\n",
        "\r\n",
        "\r\n",
        "---\r\n",
        "\r\n",
        "\r\n",
        "This ordering principle is sometimes called FIFO, first-in first-out. It is also known as “first-come first-served.”"
      ]
    },
    {
      "cell_type": "markdown",
      "metadata": {
        "id": "hFyY4Oqyp8NV"
      },
      "source": [
        "## **Implementing a Queue**"
      ]
    },
    {
      "cell_type": "code",
      "metadata": {
        "colab": {
          "base_uri": "https://localhost:8080/"
        },
        "id": "lITmBAO0o3lO",
        "outputId": "f6fb3112-3032-474b-e3aa-3f439f4a088f"
      },
      "source": [
        "class Queue:\r\n",
        "    def __init__(self):\r\n",
        "        self.items = []\r\n",
        "\r\n",
        "    def isEmpty(self):\r\n",
        "        return self.items == []\r\n",
        "\r\n",
        "    def enqueue(self, item):\r\n",
        "        self.items.insert(0,item)\r\n",
        "\r\n",
        "    def dequeue(self):\r\n",
        "        return self.items.pop()\r\n",
        "\r\n",
        "    def size(self):\r\n",
        "        return len(self.items)\r\n",
        "q=Queue()\r\n",
        "q.enqueue(4)\r\n",
        "q.enqueue('dog')\r\n",
        "q.enqueue(True)\r\n",
        "print(q.size())"
      ],
      "execution_count": null,
      "outputs": [
        {
          "output_type": "stream",
          "text": [
            "3\n"
          ],
          "name": "stdout"
        }
      ]
    },
    {
      "cell_type": "markdown",
      "metadata": {
        "id": "DbZ-8v42rbcf"
      },
      "source": [
        "### **Hot Potato Game**"
      ]
    },
    {
      "cell_type": "code",
      "metadata": {
        "colab": {
          "base_uri": "https://localhost:8080/"
        },
        "id": "ZUZdkp82rgSv",
        "outputId": "0ee1efa3-0198-47fa-e938-58bec958ee2f"
      },
      "source": [
        "def hotPotato(namelist, num):\r\n",
        "    simqueue = Queue()\r\n",
        "    for name in namelist:\r\n",
        "        simqueue.enqueue(name)\r\n",
        "\r\n",
        "    while simqueue.size() > 1:\r\n",
        "        for i in range(num):\r\n",
        "            simqueue.enqueue(simqueue.dequeue())\r\n",
        "\r\n",
        "        simqueue.dequeue()\r\n",
        "\r\n",
        "    return simqueue.dequeue()\r\n",
        "\r\n",
        "print(hotPotato([\"Bill\",\"David\",\"Susan\",\"Jane\",\"Kent\",\"Brad\"],7))"
      ],
      "execution_count": null,
      "outputs": [
        {
          "output_type": "stream",
          "text": [
            "Susan\n"
          ],
          "name": "stdout"
        }
      ]
    },
    {
      "cell_type": "markdown",
      "metadata": {
        "id": "COM7gzA6wGau"
      },
      "source": [
        "##**Implementing a Deque**"
      ]
    },
    {
      "cell_type": "code",
      "metadata": {
        "id": "AcN2nNY3weDw"
      },
      "source": [
        "class Deque:\r\n",
        "    def __init__(self):\r\n",
        "        self.items = []\r\n",
        "    def isEmpty(self):\r\n",
        "        return self.items == []\r\n",
        "    def addFront(self, item):\r\n",
        "        self.items.append(item)\r\n",
        "    def addRear(self, item):\r\n",
        "        self.items.insert(0,item)\r\n",
        "    def removeFront(self):\r\n",
        "        return self.items.pop()\r\n",
        "    def removeRear(self):\r\n",
        "        return self.items.pop(0)\r\n",
        "    def size(self):\r\n",
        "        return len(self.items)"
      ],
      "execution_count": null,
      "outputs": []
    },
    {
      "cell_type": "markdown",
      "metadata": {
        "id": "9d0IcOKJwwV4"
      },
      "source": [
        "###**Palindrome-Checker**\r\n",
        "An interesting problem that can be easily solved using the deque data structure is the classic palindrome problem. A palindrome is a string that reads the same forward and backward, for example, radar, toot, and madam. We would like to construct an algorithm to input a string of characters and check whether it is a palindrome.\r\n",
        "\r\n"
      ]
    },
    {
      "cell_type": "code",
      "metadata": {
        "colab": {
          "base_uri": "https://localhost:8080/"
        },
        "id": "jn-tABzUw4Fo",
        "outputId": "87f92bf2-3121-4304-c5d5-88c69c22a423"
      },
      "source": [
        "def palchecker(aString):\r\n",
        "    chardeque = Deque()\r\n",
        "    for ch in aString:\r\n",
        "        chardeque.addRear(ch)\r\n",
        "    stillEqual = True\r\n",
        "    while chardeque.size() > 1 and stillEqual:\r\n",
        "        first = chardeque.removeFront()\r\n",
        "        last = chardeque.removeRear()\r\n",
        "        if first != last:\r\n",
        "            stillEqual = False\r\n",
        "    return stillEqual\r\n",
        "print(palchecker(\"lsdkjfskf\"))\r\n",
        "print(palchecker(\"radar\"))"
      ],
      "execution_count": null,
      "outputs": [
        {
          "output_type": "stream",
          "text": [
            "False\n",
            "True\n"
          ],
          "name": "stdout"
        }
      ]
    }
  ]
}